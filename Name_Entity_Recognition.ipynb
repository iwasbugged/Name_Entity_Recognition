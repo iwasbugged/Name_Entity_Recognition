{
 "cells": [
  {
   "cell_type": "markdown",
   "metadata": {},
   "source": [
    "# Name Entity Recognition (NER) :-\n",
    "\n",
    "NER is an information extraction technique to identify and classify named entities in text. These entities can be pre-defined and generic like location names, organizations, time and etc.\n",
    "\n",
    "The goal of a named entity recognition (NER) system is to identify all textual mentions of the named entities. This can be broken down into two sub-tasks: identifying the boundaries of the NE, and identifying its type."
   ]
  },
  {
   "cell_type": "markdown",
   "metadata": {},
   "source": [
    "We will be using Deep Learning approach to build a model using `Bidirectional LSTM` to idetify the NER from the any text file"
   ]
  },
  {
   "cell_type": "markdown",
   "metadata": {},
   "source": [
    "The data that is used for training our model is from one of the kaggle compatition [link](https://www.kaggle.com/abhinavwalia95/entity-annotated-corpus)"
   ]
  },
  {
   "cell_type": "code",
   "execution_count": 1,
   "metadata": {
    "scrolled": true
   },
   "outputs": [],
   "source": [
    "import numpy as np\n",
    "import pandas as pd\n",
    "import matplotlib.pyplot as plt\n",
    "import seaborn as sns\n",
    "\n",
    "sns.set_style('darkgrid')"
   ]
  },
  {
   "cell_type": "markdown",
   "metadata": {},
   "source": [
    "# EDA of Dataset"
   ]
  },
  {
   "cell_type": "code",
   "execution_count": 2,
   "metadata": {},
   "outputs": [
    {
     "data": {
      "text/html": [
       "<div>\n",
       "<style scoped>\n",
       "    .dataframe tbody tr th:only-of-type {\n",
       "        vertical-align: middle;\n",
       "    }\n",
       "\n",
       "    .dataframe tbody tr th {\n",
       "        vertical-align: top;\n",
       "    }\n",
       "\n",
       "    .dataframe thead th {\n",
       "        text-align: right;\n",
       "    }\n",
       "</style>\n",
       "<table border=\"1\" class=\"dataframe\">\n",
       "  <thead>\n",
       "    <tr style=\"text-align: right;\">\n",
       "      <th></th>\n",
       "      <th>Sentence #</th>\n",
       "      <th>Word</th>\n",
       "      <th>POS</th>\n",
       "      <th>Tag</th>\n",
       "    </tr>\n",
       "  </thead>\n",
       "  <tbody>\n",
       "    <tr>\n",
       "      <th>0</th>\n",
       "      <td>Sentence: 1</td>\n",
       "      <td>Thousands</td>\n",
       "      <td>NNS</td>\n",
       "      <td>O</td>\n",
       "    </tr>\n",
       "    <tr>\n",
       "      <th>1</th>\n",
       "      <td>NaN</td>\n",
       "      <td>of</td>\n",
       "      <td>IN</td>\n",
       "      <td>O</td>\n",
       "    </tr>\n",
       "    <tr>\n",
       "      <th>2</th>\n",
       "      <td>NaN</td>\n",
       "      <td>demonstrators</td>\n",
       "      <td>NNS</td>\n",
       "      <td>O</td>\n",
       "    </tr>\n",
       "    <tr>\n",
       "      <th>3</th>\n",
       "      <td>NaN</td>\n",
       "      <td>have</td>\n",
       "      <td>VBP</td>\n",
       "      <td>O</td>\n",
       "    </tr>\n",
       "    <tr>\n",
       "      <th>4</th>\n",
       "      <td>NaN</td>\n",
       "      <td>marched</td>\n",
       "      <td>VBN</td>\n",
       "      <td>O</td>\n",
       "    </tr>\n",
       "  </tbody>\n",
       "</table>\n",
       "</div>"
      ],
      "text/plain": [
       "    Sentence #           Word  POS Tag\n",
       "0  Sentence: 1      Thousands  NNS   O\n",
       "1          NaN             of   IN   O\n",
       "2          NaN  demonstrators  NNS   O\n",
       "3          NaN           have  VBP   O\n",
       "4          NaN        marched  VBN   O"
      ]
     },
     "execution_count": 2,
     "metadata": {},
     "output_type": "execute_result"
    }
   ],
   "source": [
    "data = pd.read_csv('dataset/ner_dataset.csv', encoding= 'latin-1')\n",
    "data.head()"
   ]
  },
  {
   "cell_type": "code",
   "execution_count": 3,
   "metadata": {},
   "outputs": [
    {
     "data": {
      "text/plain": [
       "47959"
      ]
     },
     "execution_count": 3,
     "metadata": {},
     "output_type": "execute_result"
    }
   ],
   "source": [
    "# Lets see how many sentence in total in the datset\n",
    "\n",
    "data['Sentence #'].nunique()"
   ]
  },
  {
   "cell_type": "markdown",
   "metadata": {},
   "source": [
    "So, there are 47959 sentences ,  Lets put the NaN values of `Sentencce #` with the sentence number which then belong\n"
   ]
  },
  {
   "cell_type": "code",
   "execution_count": 4,
   "metadata": {},
   "outputs": [
    {
     "data": {
      "text/html": [
       "<div>\n",
       "<style scoped>\n",
       "    .dataframe tbody tr th:only-of-type {\n",
       "        vertical-align: middle;\n",
       "    }\n",
       "\n",
       "    .dataframe tbody tr th {\n",
       "        vertical-align: top;\n",
       "    }\n",
       "\n",
       "    .dataframe thead th {\n",
       "        text-align: right;\n",
       "    }\n",
       "</style>\n",
       "<table border=\"1\" class=\"dataframe\">\n",
       "  <thead>\n",
       "    <tr style=\"text-align: right;\">\n",
       "      <th></th>\n",
       "      <th>Sentence #</th>\n",
       "      <th>Word</th>\n",
       "      <th>POS</th>\n",
       "      <th>Tag</th>\n",
       "    </tr>\n",
       "  </thead>\n",
       "  <tbody>\n",
       "    <tr>\n",
       "      <th>0</th>\n",
       "      <td>Sentence: 1</td>\n",
       "      <td>Thousands</td>\n",
       "      <td>NNS</td>\n",
       "      <td>O</td>\n",
       "    </tr>\n",
       "    <tr>\n",
       "      <th>1</th>\n",
       "      <td>Sentence: 1</td>\n",
       "      <td>of</td>\n",
       "      <td>IN</td>\n",
       "      <td>O</td>\n",
       "    </tr>\n",
       "    <tr>\n",
       "      <th>2</th>\n",
       "      <td>Sentence: 1</td>\n",
       "      <td>demonstrators</td>\n",
       "      <td>NNS</td>\n",
       "      <td>O</td>\n",
       "    </tr>\n",
       "    <tr>\n",
       "      <th>3</th>\n",
       "      <td>Sentence: 1</td>\n",
       "      <td>have</td>\n",
       "      <td>VBP</td>\n",
       "      <td>O</td>\n",
       "    </tr>\n",
       "    <tr>\n",
       "      <th>4</th>\n",
       "      <td>Sentence: 1</td>\n",
       "      <td>marched</td>\n",
       "      <td>VBN</td>\n",
       "      <td>O</td>\n",
       "    </tr>\n",
       "  </tbody>\n",
       "</table>\n",
       "</div>"
      ],
      "text/plain": [
       "    Sentence #           Word  POS Tag\n",
       "0  Sentence: 1      Thousands  NNS   O\n",
       "1  Sentence: 1             of   IN   O\n",
       "2  Sentence: 1  demonstrators  NNS   O\n",
       "3  Sentence: 1           have  VBP   O\n",
       "4  Sentence: 1        marched  VBN   O"
      ]
     },
     "execution_count": 4,
     "metadata": {},
     "output_type": "execute_result"
    }
   ],
   "source": [
    "data['Sentence #'].ffill(axis = 0 , inplace=True)\n",
    "data.head()"
   ]
  },
  {
   "cell_type": "code",
   "execution_count": 5,
   "metadata": {},
   "outputs": [
    {
     "data": {
      "text/plain": [
       "array(['O', 'B-geo', 'B-gpe', 'B-per', 'I-geo', 'B-org', 'I-org', 'B-tim',\n",
       "       'B-art', 'I-art', 'I-per', 'I-gpe', 'I-tim', 'B-nat', 'B-eve',\n",
       "       'I-eve', 'I-nat'], dtype=object)"
      ]
     },
     "execution_count": 5,
     "metadata": {},
     "output_type": "execute_result"
    }
   ],
   "source": [
    "data.Tag.unique()"
   ]
  },
  {
   "cell_type": "code",
   "execution_count": 6,
   "metadata": {},
   "outputs": [
    {
     "data": {
      "text/plain": [
       "array(['NNS', 'IN', 'VBP', 'VBN', 'NNP', 'TO', 'VB', 'DT', 'NN', 'CC',\n",
       "       'JJ', '.', 'VBD', 'WP', '``', 'CD', 'PRP', 'VBZ', 'POS', 'VBG',\n",
       "       'RB', ',', 'WRB', 'PRP$', 'MD', 'WDT', 'JJR', ':', 'JJS', 'WP$',\n",
       "       'RP', 'PDT', 'NNPS', 'EX', 'RBS', 'LRB', 'RRB', '$', 'RBR', ';',\n",
       "       'UH', 'FW'], dtype=object)"
      ]
     },
     "execution_count": 6,
     "metadata": {},
     "output_type": "execute_result"
    }
   ],
   "source": [
    "data.POS.unique()"
   ]
  },
  {
   "cell_type": "code",
   "execution_count": 7,
   "metadata": {},
   "outputs": [
    {
     "name": "stdout",
     "output_type": "stream",
     "text": [
      "unique words:-> 35178\n",
      "unique tags:-> 17\n"
     ]
    }
   ],
   "source": [
    "# Let's see hos many unique words & are there in the dataset\n",
    "\n",
    "print('unique words:->' , data['Word'].nunique())\n",
    "print('unique tags:->', data['Tag'].nunique())"
   ]
  },
  {
   "cell_type": "markdown",
   "metadata": {},
   "source": [
    "So, there are 35178 unique words in the dataset and there are 17 tags for them\n",
    "\n",
    "Let's create a dataset of the words."
   ]
  },
  {
   "cell_type": "code",
   "execution_count": 8,
   "metadata": {},
   "outputs": [],
   "source": [
    "words = list(set(data['Word'].values))\n",
    "words.append('ENDPAD')   # appending \"ENDPAD\" word in the dataset of words for putting the its value in the pad_sequence\n",
    "tags = list(set(data['Tag'].values))"
   ]
  },
  {
   "cell_type": "code",
   "execution_count": 9,
   "metadata": {},
   "outputs": [
    {
     "data": {
      "text/plain": [
       "(35179,)"
      ]
     },
     "execution_count": 9,
     "metadata": {},
     "output_type": "execute_result"
    }
   ],
   "source": [
    "np.shape(words)"
   ]
  },
  {
   "cell_type": "code",
   "execution_count": 10,
   "metadata": {},
   "outputs": [
    {
     "name": "stdout",
     "output_type": "stream",
     "text": [
      "Number of words -> 35179\n"
     ]
    }
   ],
   "source": [
    "num_words = len(words)\n",
    "num_tags = len(tags)\n",
    "print('Number of words ->',num_words)"
   ]
  },
  {
   "cell_type": "markdown",
   "metadata": {},
   "source": [
    "Let's create an class that returns sentence out of these words in the dataset"
   ]
  },
  {
   "cell_type": "code",
   "execution_count": 11,
   "metadata": {},
   "outputs": [],
   "source": [
    "class SentenceGetter:\n",
    "    def __init__(self , data):\n",
    "        self.data = data\n",
    "        agg_func = lambda x : [(w , p ,t) for w,p,t in zip(x['Word'].values.tolist(),\n",
    "                                                           x['POS'].values.tolist(),\n",
    "                                                           x['Tag'].values.tolist())]\n",
    "        \n",
    "        self.grouped = self.data.groupby('Sentence #').apply(agg_func)\n",
    "        self.sentences = [i for i in self.grouped]"
   ]
  },
  {
   "cell_type": "code",
   "execution_count": 12,
   "metadata": {},
   "outputs": [
    {
     "data": {
      "text/plain": [
       "[('Thousands', 'NNS', 'O'),\n",
       " ('of', 'IN', 'O'),\n",
       " ('demonstrators', 'NNS', 'O'),\n",
       " ('have', 'VBP', 'O'),\n",
       " ('marched', 'VBN', 'O'),\n",
       " ('through', 'IN', 'O'),\n",
       " ('London', 'NNP', 'B-geo'),\n",
       " ('to', 'TO', 'O'),\n",
       " ('protest', 'VB', 'O'),\n",
       " ('the', 'DT', 'O'),\n",
       " ('war', 'NN', 'O'),\n",
       " ('in', 'IN', 'O'),\n",
       " ('Iraq', 'NNP', 'B-geo'),\n",
       " ('and', 'CC', 'O'),\n",
       " ('demand', 'VB', 'O'),\n",
       " ('the', 'DT', 'O'),\n",
       " ('withdrawal', 'NN', 'O'),\n",
       " ('of', 'IN', 'O'),\n",
       " ('British', 'JJ', 'B-gpe'),\n",
       " ('troops', 'NNS', 'O'),\n",
       " ('from', 'IN', 'O'),\n",
       " ('that', 'DT', 'O'),\n",
       " ('country', 'NN', 'O'),\n",
       " ('.', '.', 'O')]"
      ]
     },
     "execution_count": 12,
     "metadata": {},
     "output_type": "execute_result"
    }
   ],
   "source": [
    "getter = SentenceGetter(data)\n",
    "\n",
    "sentences = getter.sentences\n",
    "\n",
    "sentences[0]"
   ]
  },
  {
   "cell_type": "code",
   "execution_count": 13,
   "metadata": {},
   "outputs": [
    {
     "name": "stdout",
     "output_type": "stream",
     "text": [
      "35179\n"
     ]
    },
    {
     "data": {
      "text/plain": [
       "{'B-nat': 0,\n",
       " 'I-org': 1,\n",
       " 'I-gpe': 2,\n",
       " 'B-eve': 3,\n",
       " 'B-gpe': 4,\n",
       " 'B-per': 5,\n",
       " 'B-geo': 6,\n",
       " 'B-org': 7,\n",
       " 'B-tim': 8,\n",
       " 'I-per': 9,\n",
       " 'I-tim': 10,\n",
       " 'I-art': 11,\n",
       " 'I-nat': 12,\n",
       " 'B-art': 13,\n",
       " 'O': 14,\n",
       " 'I-eve': 15,\n",
       " 'I-geo': 16}"
      ]
     },
     "execution_count": 13,
     "metadata": {},
     "output_type": "execute_result"
    }
   ],
   "source": [
    "# Creating a vocabulary or a dictionary of the words\n",
    "\n",
    "word2idx = {w:i+1 for i , w in enumerate(words)}\n",
    "tags2idx = {t:i for i , t in enumerate(tags)}\n",
    "\n",
    "print(word2idx['ENDPAD'])\n",
    "tags2idx"
   ]
  },
  {
   "cell_type": "code",
   "execution_count": 14,
   "metadata": {},
   "outputs": [
    {
     "name": "stdout",
     "output_type": "stream",
     "text": [
      "24\n"
     ]
    }
   ],
   "source": [
    "# lets find out how many words are in a sentence\n",
    "print(len(sentences[0]))"
   ]
  },
  {
   "cell_type": "markdown",
   "metadata": {},
   "source": [
    "let's create INPUT and OUTPUT feed for the model training"
   ]
  },
  {
   "cell_type": "code",
   "execution_count": 15,
   "metadata": {},
   "outputs": [],
   "source": [
    "from tensorflow.keras.preprocessing.sequence import pad_sequences\n",
    "from tensorflow.keras.utils import to_categorical\n",
    "\n",
    "max_len = 100  # To be safer side let's assume that a sentence have 50 words in it\n",
    "\n",
    "x = [[word2idx[w[0]] for w in s] for s in sentences]\n",
    "\n",
    "# Lets pad the input sentence that has not have 50 words in it\n",
    "x = pad_sequences(sequences=x , maxlen=max_len , padding= 'post' , value = num_words -1)\n",
    "\n",
    "y = [[tags2idx[w[2]] for w in s] for s in sentences]\n",
    "y = pad_sequences(sequences= y , maxlen= max_len , padding= 'post', value= tags2idx['O'])"
   ]
  },
  {
   "cell_type": "code",
   "execution_count": 16,
   "metadata": {},
   "outputs": [
    {
     "name": "stdout",
     "output_type": "stream",
     "text": [
      "shape of x -> (47959, 100)\n",
      "shape of y -> (47959, 100)\n"
     ]
    }
   ],
   "source": [
    "print('shape of x ->',x.shape)\n",
    "print('shape of y ->' , y.shape)"
   ]
  },
  {
   "cell_type": "code",
   "execution_count": 17,
   "metadata": {},
   "outputs": [],
   "source": [
    "# convert output \"y\" into one hot encoder\n",
    "\n",
    "y = [to_categorical(i , num_classes=num_tags) for i in y]"
   ]
  },
  {
   "cell_type": "code",
   "execution_count": 18,
   "metadata": {},
   "outputs": [
    {
     "data": {
      "text/plain": [
       "array([[0., 0., 0., ..., 1., 0., 0.],\n",
       "       [0., 0., 0., ..., 1., 0., 0.],\n",
       "       [0., 0., 0., ..., 1., 0., 0.],\n",
       "       ...,\n",
       "       [0., 0., 0., ..., 1., 0., 0.],\n",
       "       [0., 0., 0., ..., 1., 0., 0.],\n",
       "       [0., 0., 0., ..., 1., 0., 0.]], dtype=float32)"
      ]
     },
     "execution_count": 18,
     "metadata": {},
     "output_type": "execute_result"
    }
   ],
   "source": [
    "y[0]"
   ]
  },
  {
   "cell_type": "code",
   "execution_count": 19,
   "metadata": {},
   "outputs": [],
   "source": [
    "# spliting data into training and test set\n",
    "\n",
    "from sklearn.model_selection import train_test_split\n",
    "\n",
    "x_train , x_test , y_train , y_test = train_test_split(x , y ,test_size = 0.1 , random_state = 42)"
   ]
  },
  {
   "cell_type": "markdown",
   "metadata": {},
   "source": [
    "Building and compiling a BiLSTM "
   ]
  },
  {
   "cell_type": "code",
   "execution_count": 20,
   "metadata": {},
   "outputs": [],
   "source": [
    "from tensorflow.keras import Model , Input\n",
    "from tensorflow.keras.layers import LSTM, Embedding , Dense\n",
    "from tensorflow.keras.layers import TimeDistributed , Bidirectional , SpatialDropout1D"
   ]
  },
  {
   "cell_type": "code",
   "execution_count": 21,
   "metadata": {},
   "outputs": [
    {
     "name": "stdout",
     "output_type": "stream",
     "text": [
      "Model: \"functional_1\"\n",
      "_________________________________________________________________\n",
      "Layer (type)                 Output Shape              Param #   \n",
      "=================================================================\n",
      "input_1 (InputLayer)         [(None, 100)]             0         \n",
      "_________________________________________________________________\n",
      "embedding (Embedding)        (None, 100, 100)          3518000   \n",
      "_________________________________________________________________\n",
      "spatial_dropout1d (SpatialDr (None, 100, 100)          0         \n",
      "_________________________________________________________________\n",
      "bidirectional (Bidirectional (None, 100, 264)          246048    \n",
      "_________________________________________________________________\n",
      "time_distributed (TimeDistri (None, 100, 17)           4505      \n",
      "=================================================================\n",
      "Total params: 3,768,553\n",
      "Trainable params: 3,768,553\n",
      "Non-trainable params: 0\n",
      "_________________________________________________________________\n"
     ]
    }
   ],
   "source": [
    "input_words = Input(shape= (max_len ,))\n",
    "\n",
    "model = Embedding(input_dim = num_words + 1 , output_dim = max_len , input_length = max_len)(input_words)\n",
    "model = SpatialDropout1D(0.1)(model)\n",
    "model = Bidirectional(LSTM(132 , return_sequences = True , recurrent_dropout = 0.1))(model)\n",
    "out = TimeDistributed(Dense(num_tags , activation = 'softmax'))(model)\n",
    "\n",
    "model = Model(input_words , out)\n",
    "model.summary()"
   ]
  },
  {
   "cell_type": "code",
   "execution_count": 22,
   "metadata": {},
   "outputs": [],
   "source": [
    "model.compile(optimizer = 'adam' , loss = 'categorical_crossentropy',\n",
    "             metrics = ['accuracy'])\n"
   ]
  },
  {
   "cell_type": "markdown",
   "metadata": {},
   "source": [
    "Training model with per epoch visualization using Callbacks"
   ]
  },
  {
   "cell_type": "code",
   "execution_count": 23,
   "metadata": {},
   "outputs": [],
   "source": [
    "from tensorflow.keras.callbacks import EarlyStopping\n",
    "from livelossplot import PlotLossesKerasTF"
   ]
  },
  {
   "cell_type": "code",
   "execution_count": 24,
   "metadata": {
    "scrolled": true
   },
   "outputs": [
    {
     "data": {
      "text/plain": [
       "list"
      ]
     },
     "execution_count": 24,
     "metadata": {},
     "output_type": "execute_result"
    }
   ],
   "source": [
    "type(y_train)"
   ]
  },
  {
   "cell_type": "code",
   "execution_count": 25,
   "metadata": {},
   "outputs": [
    {
     "data": {
      "image/png": "[encoded data removed]",
      "text/plain": [
       "<Figure size 864x576 with 2 Axes>"
      ]
     },
     "metadata": {},
     "output_type": "display_data"
    },
    {
     "name": "stdout",
     "output_type": "stream",
     "text": [
      "accuracy\n",
      "\ttraining         \t (min:    0.979, max:    0.995, cur:    0.995)\n",
      "\tvalidation       \t (min:    0.991, max:    0.993, cur:    0.993)\n",
      "Loss\n",
      "\ttraining         \t (min:    0.014, max:    0.096, cur:    0.014)\n",
      "\tvalidation       \t (min:    0.024, max:    0.032, cur:    0.025)\n"
     ]
    }
   ],
   "source": [
    "early_stopping = EarlyStopping( monitor= 'val_accuracy' , patience= 1 ,verbose=0 ,mode= 'max', restore_best_weights= False)\n",
    "\n",
    "callbacks = [PlotLossesKerasTF() , early_stopping]\n",
    "\n",
    "history = model.fit(\n",
    "                    x_train , np.array(y_train),\n",
    "                    validation_split=0.2,\n",
    "                    batch_size = 32,\n",
    "                    epochs = 5,\n",
    "                    verbose = 0,\n",
    "                    callbacks = callbacks\n",
    ")"
   ]
  },
  {
   "cell_type": "code",
   "execution_count": 26,
   "metadata": {},
   "outputs": [
    {
     "name": "stdout",
     "output_type": "stream",
     "text": [
      "150/150 [==============================] - 4s 27ms/step - loss: 0.0246 - accuracy: 0.9926\n"
     ]
    },
    {
     "data": {
      "text/plain": [
       "[0.024599047377705574, 0.9926146864891052]"
      ]
     },
     "execution_count": 26,
     "metadata": {},
     "output_type": "execute_result"
    }
   ],
   "source": [
    "model.evaluate(x_test , np.array(y_test))"
   ]
  },
  {
   "cell_type": "code",
   "execution_count": 27,
   "metadata": {},
   "outputs": [
    {
     "name": "stdout",
     "output_type": "stream",
     "text": [
      "Word           True \tPred\n",
      "\n",
      "------------------------------\n",
      "They           O\tO\n",
      "temporarily    O\tO\n",
      "suspended      O\tO\n",
      "demonstrations O\tO\n",
      "in             O\tO\n",
      "Nepal          B-gpe\tB-gpe\n",
      "after          O\tO\n",
      "the            O\tO\n",
      "earthquake     O\tO\n",
      "in             O\tO\n",
      "China          B-geo\tB-geo\n",
      ",              O\tO\n",
      "but            O\tO\n",
      "recently       O\tO\n",
      "have           O\tO\n",
      "restarted      O\tO\n",
      "protests       O\tO\n",
      ".              O\tO\n",
      "army-led       O\tO\n",
      "army-led       O\tO\n",
      "army-led       O\tO\n",
      "army-led       O\tO\n",
      "army-led       O\tO\n",
      "army-led       O\tO\n",
      "army-led       O\tO\n",
      "army-led       O\tO\n",
      "army-led       O\tO\n",
      "army-led       O\tO\n",
      "army-led       O\tO\n",
      "army-led       O\tO\n",
      "army-led       O\tO\n",
      "army-led       O\tO\n",
      "army-led       O\tO\n",
      "army-led       O\tO\n",
      "army-led       O\tO\n",
      "army-led       O\tO\n",
      "army-led       O\tO\n",
      "army-led       O\tO\n",
      "army-led       O\tO\n",
      "army-led       O\tO\n",
      "army-led       O\tO\n",
      "army-led       O\tO\n",
      "army-led       O\tO\n",
      "army-led       O\tO\n",
      "army-led       O\tO\n",
      "army-led       O\tO\n",
      "army-led       O\tO\n",
      "army-led       O\tO\n",
      "army-led       O\tO\n",
      "army-led       O\tO\n",
      "army-led       O\tO\n",
      "army-led       O\tO\n",
      "army-led       O\tO\n",
      "army-led       O\tO\n",
      "army-led       O\tO\n",
      "army-led       O\tO\n",
      "army-led       O\tO\n",
      "army-led       O\tO\n",
      "army-led       O\tO\n",
      "army-led       O\tO\n",
      "army-led       O\tO\n",
      "army-led       O\tO\n",
      "army-led       O\tO\n",
      "army-led       O\tO\n",
      "army-led       O\tO\n",
      "army-led       O\tO\n",
      "army-led       O\tO\n",
      "army-led       O\tO\n",
      "army-led       O\tO\n",
      "army-led       O\tO\n",
      "army-led       O\tO\n",
      "army-led       O\tO\n",
      "army-led       O\tO\n",
      "army-led       O\tO\n",
      "army-led       O\tO\n",
      "army-led       O\tO\n",
      "army-led       O\tO\n",
      "army-led       O\tO\n",
      "army-led       O\tO\n",
      "army-led       O\tO\n",
      "army-led       O\tO\n",
      "army-led       O\tO\n",
      "army-led       O\tO\n",
      "army-led       O\tO\n",
      "army-led       O\tO\n",
      "army-led       O\tO\n",
      "army-led       O\tO\n",
      "army-led       O\tO\n",
      "army-led       O\tO\n",
      "army-led       O\tO\n",
      "army-led       O\tO\n",
      "army-led       O\tO\n",
      "army-led       O\tO\n",
      "army-led       O\tO\n",
      "army-led       O\tO\n",
      "army-led       O\tO\n",
      "army-led       O\tO\n",
      "army-led       O\tO\n",
      "army-led       O\tO\n",
      "army-led       O\tO\n"
     ]
    }
   ],
   "source": [
    "i = np.random.randint(0, x_test.shape[0])\n",
    "p = model.predict(np.array([x_test[i]]))\n",
    "# print(np.shape(p))\n",
    "# print(p)\n",
    "p = np.argmax(p, axis=-1)\n",
    "\n",
    "\n",
    "y_true = np.argmax(np.array(y_test), axis=-1)[i]\n",
    "\n",
    "print(\"{:15}{:5}\\t{}\\n\".format(\"Word\", \"True\", \"Pred\"))\n",
    "print(\"-\"*30)\n",
    "\n",
    "for (w, t, pred) in zip(x_test[i], y_true, p[0]):\n",
    "    print(\"{:15}{}\\t{}\".format(words[w-1], tags[t], tags[pred]))"
   ]
  },
  {
   "cell_type": "code",
   "execution_count": 60,
   "metadata": {},
   "outputs": [],
   "source": [
    "# model.save('Name_Entity_Recognition.h5')"
   ]
  },
  {
   "cell_type": "markdown",
   "metadata": {},
   "source": [
    "## Data Cleaning"
   ]
  },
  {
   "cell_type": "code",
   "execution_count": 49,
   "metadata": {},
   "outputs": [],
   "source": [
    "import os\n",
    "import numpy as np\n",
    "import pandas as pd"
   ]
  },
  {
   "cell_type": "code",
   "execution_count": 50,
   "metadata": {},
   "outputs": [],
   "source": [
    "path = os.getcwd()\n",
    "\n",
    "dataset_path = os.path.join(path ,'dataset')\n",
    "\n",
    "text_path = os.path.join(dataset_path , 'text.task1_2-test（361p)')\n",
    "image_path = os.path.join(dataset_path , 'task3-test（347p)')"
   ]
  },
  {
   "cell_type": "code",
   "execution_count": 51,
   "metadata": {},
   "outputs": [
    {
     "name": "stdout",
     "output_type": "stream",
     "text": [
      "C:\\Users\\iamra\\Notebooks\\internship_challenge\\dataset\\text.task1_2-test（361p)\n",
      "C:\\Users\\iamra\\Notebooks\\internship_challenge\\dataset\\task3-test（347p)\n"
     ]
    }
   ],
   "source": [
    "print(text_path)\n",
    "print(image_path)"
   ]
  },
  {
   "cell_type": "code",
   "execution_count": 52,
   "metadata": {},
   "outputs": [],
   "source": [
    "text_files = os.listdir(text_path)\n",
    "image_files = os.listdir(image_path)"
   ]
  },
  {
   "cell_type": "code",
   "execution_count": 53,
   "metadata": {},
   "outputs": [
    {
     "name": "stdout",
     "output_type": "stream",
     "text": [
      "Number of Test files -> 361\n",
      "Number of image files -> 347\n"
     ]
    }
   ],
   "source": [
    "print('Number of Test files ->',len(text_files))\n",
    "print('Number of image files ->', len(image_files))"
   ]
  },
  {
   "cell_type": "code",
   "execution_count": 54,
   "metadata": {},
   "outputs": [
    {
     "data": {
      "text/plain": [
       "'X00016469670.txt'"
      ]
     },
     "execution_count": 54,
     "metadata": {},
     "output_type": "execute_result"
    }
   ],
   "source": [
    "text_files[0]"
   ]
  },
  {
   "cell_type": "code",
   "execution_count": 55,
   "metadata": {},
   "outputs": [
    {
     "data": {
      "text/plain": [
       "'X00016469670.jpg'"
      ]
     },
     "execution_count": 55,
     "metadata": {},
     "output_type": "execute_result"
    }
   ],
   "source": [
    "image_files[0]"
   ]
  },
  {
   "cell_type": "code",
   "execution_count": 56,
   "metadata": {},
   "outputs": [],
   "source": [
    "# Lets filter all the data from the text file that also exist in the image file\n",
    "\n",
    "# Before filter the text file let's make a seperate folder to save the filtered file\n",
    "new_folder = 'text_file'\n",
    "dst_file = os.path.join(dataset_path,new_folder)\n",
    "#os.makedirs(dst_file)\n",
    "\n",
    "import shutil  # To copy the file \n",
    "\n",
    "def filter_text(text_file , image_file):\n",
    "    text = []\n",
    "    image = []\n",
    "    for file in image_file:\n",
    "        image.append(file[:-4])\n",
    "        \n",
    "    for file in text_file:\n",
    "        text.append(file[:-4])\n",
    "        \n",
    "    for file in text:\n",
    "        if file in image:\n",
    "            file_name = file + '.txt'\n",
    "            src_file = os.path.join(text_path , file_name)\n",
    "            if os.path.isfile(src_file):\n",
    "                shutil.copy(src_file , dst_file)"
   ]
  },
  {
   "cell_type": "code",
   "execution_count": 57,
   "metadata": {},
   "outputs": [],
   "source": [
    "filter_text(text_files , image_files)"
   ]
  },
  {
   "cell_type": "code",
   "execution_count": 58,
   "metadata": {},
   "outputs": [
    {
     "name": "stdout",
     "output_type": "stream",
     "text": [
      "Total Filtered file -> 347\n"
     ]
    }
   ],
   "source": [
    "# Lets see how many files are in the text_file folder\n",
    "print('Total Filtered file ->', len(os.listdir(dst_file)))"
   ]
  },
  {
   "cell_type": "code",
   "execution_count": 59,
   "metadata": {},
   "outputs": [],
   "source": [
    "# Let's the clean the data to feed in the model\n",
    "\n",
    "data = []\n",
    "text_file = os.listdir(dst_file)\n",
    "\n",
    "for file in text_file:\n",
    "    path = os.path.join(dst_file , file)\n",
    "    \n",
    "    text = open(path , 'r')\n",
    "\n",
    "    sentence = []\n",
    "    for sent in text:\n",
    "        sentence.append(sent)\n",
    "\n",
    "    text.close()\n",
    "    temp_data = []\n",
    "    for sent in sentence:\n",
    "        temp = sent.split(',')\n",
    "        temp_data.append(temp[8:])\n",
    "    \n",
    "    temp_data_2 = []\n",
    "    for i in range(len(temp_data)):\n",
    "        for j in range(len(temp_data[i])):\n",
    "            temp_data_2.append(temp_data[i][j])\n",
    "          \n",
    "    temp_data_3 = []\n",
    "    for sent in temp_data_2:\n",
    "        temp = sent.split()\n",
    "        temp_data_3.append(temp)\n",
    "    \n",
    "    temp_data_4 = []\n",
    "    for i in range(len(temp_data_3)):\n",
    "        for j in range(len(temp_data_3[i])):\n",
    "            temp_data_4.append(temp_data_3[i][j])\n",
    "            \n",
    "    data.append(temp_data_4)"
   ]
  },
  {
   "cell_type": "code",
   "execution_count": 60,
   "metadata": {},
   "outputs": [
    {
     "data": {
      "text/plain": [
       "35179"
      ]
     },
     "execution_count": 60,
     "metadata": {},
     "output_type": "execute_result"
    }
   ],
   "source": [
    "word2idx['ENDPAD']"
   ]
  },
  {
   "cell_type": "code",
   "execution_count": 73,
   "metadata": {
    "scrolled": true
   },
   "outputs": [],
   "source": [
    "x_sub = [[word2idx.get(w.lower() , 35179 ) for w in s] for s in data]"
   ]
  },
  {
   "cell_type": "code",
   "execution_count": 75,
   "metadata": {},
   "outputs": [],
   "source": [
    "x_sub = pad_sequences(sequences=x_sub , maxlen=max_len , padding= 'post' , value = num_words -1)"
   ]
  },
  {
   "cell_type": "code",
   "execution_count": 79,
   "metadata": {},
   "outputs": [],
   "source": [
    "prediction = model.predict(np.array(x_sub[0]))"
   ]
  },
  {
   "cell_type": "code",
   "execution_count": 100,
   "metadata": {},
   "outputs": [],
   "source": [
    "pre = np.argmax(prediction , axis = -1)"
   ]
  },
  {
   "cell_type": "code",
   "execution_count": 101,
   "metadata": {},
   "outputs": [
    {
     "name": "stdout",
     "output_type": "stream",
     "text": [
      "ENDPAD -> B-eve\n"
     ]
    }
   ],
   "source": [
    "for (word , pred) in zip(x_sub[0] , pre[0]):\n",
    "    print(words[word-1] , '->' , tags[pred])"
   ]
  },
  {
   "cell_type": "code",
   "execution_count": 103,
   "metadata": {
    "scrolled": true
   },
   "outputs": [
    {
     "data": {
      "text/plain": [
       "array([[ 3],\n",
       "       [ 3],\n",
       "       [14],\n",
       "       [10],\n",
       "       [ 1],\n",
       "       [10],\n",
       "       [ 3],\n",
       "       [ 3],\n",
       "       [10],\n",
       "       [ 3],\n",
       "       [ 3],\n",
       "       [ 3],\n",
       "       [ 3],\n",
       "       [ 3],\n",
       "       [ 3],\n",
       "       [ 3],\n",
       "       [ 3],\n",
       "       [ 3],\n",
       "       [ 3],\n",
       "       [ 3],\n",
       "       [14],\n",
       "       [ 3],\n",
       "       [ 3],\n",
       "       [14],\n",
       "       [14],\n",
       "       [ 3],\n",
       "       [14],\n",
       "       [14],\n",
       "       [ 3],\n",
       "       [ 3],\n",
       "       [14],\n",
       "       [ 3],\n",
       "       [14],\n",
       "       [ 3],\n",
       "       [ 3],\n",
       "       [ 3],\n",
       "       [14],\n",
       "       [14],\n",
       "       [14],\n",
       "       [ 3],\n",
       "       [14],\n",
       "       [14],\n",
       "       [14],\n",
       "       [14],\n",
       "       [14],\n",
       "       [14],\n",
       "       [14],\n",
       "       [14],\n",
       "       [ 3],\n",
       "       [14],\n",
       "       [ 3],\n",
       "       [14],\n",
       "       [14],\n",
       "       [ 3],\n",
       "       [10],\n",
       "       [ 3],\n",
       "       [ 3],\n",
       "       [ 3],\n",
       "       [14],\n",
       "       [14],\n",
       "       [ 9],\n",
       "       [ 3],\n",
       "       [ 3],\n",
       "       [ 3],\n",
       "       [10],\n",
       "       [14],\n",
       "       [14],\n",
       "       [ 3],\n",
       "       [ 3],\n",
       "       [14],\n",
       "       [ 3],\n",
       "       [ 3],\n",
       "       [ 3],\n",
       "       [14],\n",
       "       [14],\n",
       "       [ 3],\n",
       "       [ 3],\n",
       "       [14],\n",
       "       [ 3],\n",
       "       [ 3],\n",
       "       [ 3],\n",
       "       [ 3],\n",
       "       [14],\n",
       "       [14],\n",
       "       [ 3],\n",
       "       [ 3],\n",
       "       [14],\n",
       "       [ 3],\n",
       "       [14],\n",
       "       [14],\n",
       "       [14],\n",
       "       [14],\n",
       "       [ 3],\n",
       "       [ 1],\n",
       "       [ 3],\n",
       "       [ 3],\n",
       "       [ 3],\n",
       "       [ 8],\n",
       "       [14],\n",
       "       [ 3]], dtype=int64)"
      ]
     },
     "execution_count": 103,
     "metadata": {},
     "output_type": "execute_result"
    }
   ],
   "source": [
    "pre"
   ]
  },
  {
   "cell_type": "code",
   "execution_count": null,
   "metadata": {},
   "outputs": [],
   "source": []
  }
 ],
 "metadata": {
  "kernelspec": {
   "display_name": "Python 3",
   "language": "python",
   "name": "python3"
  },
  "language_info": {
   "codemirror_mode": {
    "name": "ipython",
    "version": 3
   },
   "file_extension": ".py",
   "mimetype": "text/x-python",
   "name": "python",
   "nbconvert_exporter": "python",
   "pygments_lexer": "ipython3",
   "version": "3.8.5"
  }
 },
 "nbformat": 4,
 "nbformat_minor": 4
}
